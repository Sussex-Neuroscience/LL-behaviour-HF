{
 "cells": [
  {
   "cell_type": "code",
   "execution_count": 1,
   "id": "b16924af-a15e-40a8-a1ce-ed0b3da515da",
   "metadata": {},
   "outputs": [
    {
     "name": "stdout",
     "output_type": "stream",
     "text": [
      "\u001b[34mConnecting to --port=COM4 --baud=115200 \u001b[0m\n",
      "\u001b[34mReady.\n",
      "\u001b[0m"
     ]
    }
   ],
   "source": [
    "#%serialconnect to --port=/dev/ttyUSB0 --baud=115200\n",
    "%serialconnect to --port=COM4 --baud=115200"
   ]
  },
  {
   "cell_type": "code",
   "execution_count": 34,
   "id": "2b979cff-9812-475f-a364-44f29df8a18f",
   "metadata": {},
   "outputs": [
    {
     "name": "stdout",
     "output_type": "stream",
     "text": [
      "Sent 482 lines (18352 bytes) to training2.py.\n",
      "repl is in normal command mode\n",
      "[\\r\\x03\\x03] b'\\r\\nMicroPython v1.17 on 2021-09-02; ESP32 module with ESP32\\r\\nType \"help()\" for more information.\\r\\n>>> \\r\\n>>> \\r\\nMPY: soft reboot\\r\\nMicroPython v1.17 on 2021-09-02; ESP32 module with ESP32\\r\\nType \"help()\" for more information.\\r\\n>>> \\r\\n>>> \\r\\n>>> '\n",
      "[\\r\\x01] b'\\r\\n>>> \\r\\nraw REPL; CTRL-B to exit\\r\\n>'"
     ]
    }
   ],
   "source": [
    "%sendtofile --source=\"training2.py\" \"training2.py\"\n",
    "#%sendtofile --source=\"training.py\" \"training.py\"\n",
    "%rebootdevice"
   ]
  },
  {
   "cell_type": "code",
   "execution_count": 35,
   "id": "d32534cf-2eb3-412a-832b-b858ed50fe3c",
   "metadata": {},
   "outputs": [],
   "source": [
    "#import servo\n",
    "#import tasks\n",
    "#import training \n",
    "import training2\n"
   ]
  },
  {
   "cell_type": "code",
   "execution_count": 36,
   "id": "a147f234-a0f2-4e1c-9763-717a671fdde5",
   "metadata": {},
   "outputs": [],
   "source": [
    "#set testing to 1 if you need to run things faster for testing purposes\n",
    "#task = tasks.Task1(testing=1)\n",
    "#task = training.Task1(testing=0)\n",
    "task = training2.Task1(testing=0)\n"
   ]
  },
  {
   "cell_type": "code",
   "execution_count": 37,
   "id": "05cda556-da57-4e8e-8277-13f4ccb4db4d",
   "metadata": {},
   "outputs": [],
   "source": [
    "task.moveBackDelay = 700"
   ]
  },
  {
   "cell_type": "code",
   "execution_count": 38,
   "id": "2b5e9702-e62e-41e2-85bf-9d03d4cda4ae",
   "metadata": {},
   "outputs": [],
   "source": [
    "#test solenoids \n",
    "task.solenoid1()\n"
   ]
  },
  {
   "cell_type": "code",
   "execution_count": 39,
   "id": "6fa3b1a7-3e8f-427b-b1ca-88d729eedb68",
   "metadata": {},
   "outputs": [],
   "source": [
    "task.solenoid2()"
   ]
  },
  {
   "cell_type": "code",
   "execution_count": 40,
   "id": "934a0ea0-b88c-491e-bf15-10bc3c565d99",
   "metadata": {},
   "outputs": [],
   "source": [
    "#range of movement of the servo motors\n",
    "#maximal max value 65\n",
    "#minimum min value 25\n",
    "task.servoMax = 43\n",
    "task.servoMin = 26\n",
    "\n",
    "#move servos forward\n",
    "task.move_servos_forward()"
   ]
  },
  {
   "cell_type": "code",
   "execution_count": 41,
   "id": "059bc9cc-ae78-44ec-833b-87446f6db8be",
   "metadata": {},
   "outputs": [],
   "source": [
    "\n",
    "task.move_servos_backward()\n"
   ]
  },
  {
   "cell_type": "code",
   "execution_count": 42,
   "id": "6e23b258-e771-4e5c-b56c-e0105decc370",
   "metadata": {},
   "outputs": [],
   "source": [
    "task.reward2Duration = 130\n",
    "task.reward1Duration = 130"
   ]
  },
  {
   "cell_type": "code",
   "execution_count": 43,
   "id": "688a3871-e6b8-40ae-a249-80fdfc3203cb",
   "metadata": {},
   "outputs": [
    {
     "name": "stdout",
     "output_type": "stream",
     "text": [
      "\u001b[32mWriting output to file test.csv\n",
      "\n",
      "\u001b[0m....trial, 1, monitor, 1, response Status, 0,  no lick, 1,  correct trials, 0,  incorrect trials, 0,  spout 1 correct, 0,  spout 2 correct, 0,  spout 1 incorrect, 0,  spout 2 incorrect, 0,\n",
      ".....trial, 2, monitor, 1, response Status, 0,  no lick, 2,  correct trials, 0,  incorrect trials, 0,  spout 1 correct, 0,  spout 2 correct, 0,  spout 1 incorrect, 0,  spout 2 incorrect, 0,\n",
      "....trial, 3, monitor, 0, response Status, 0,  no lick, 3,  correct trials, 0,  incorrect trials, 0,  spout 1 correct, 0,  spout 2 correct, 0,  spout 1 incorrect, 0,  spout 2 incorrect, 0,\n",
      ".....trial, 4, monitor, 1, response Status, 0,  no lick, 4,  correct trials, 0,  incorrect trials, 0,  spout 1 correct, 0,  spout 2 correct, 0,  spout 1 incorrect, 0,  spout 2 incorrect, 0,\n",
      "\u001b[34m\n",
      "\n",
      "*** Sending Ctrl-C\n",
      "\n",
      "\u001b[0m"
     ]
    },
    {
     "name": "stderr",
     "output_type": "stream",
     "text": [
      "Traceback (most recent call last):\n",
      "  File \"<stdin>\", line 1, in <module>\n",
      "  File \"training2.py\", line 338, in run_task1\n",
      "  File \"training2.py\", line 411, in move_servos_backward\n",
      "KeyboardInterrupt: \n"
     ]
    }
   ],
   "source": [
    "%capture \"test.csv\"\n",
    "\n",
    "task.run_task1()\n",
    "\n"
   ]
  },
  {
   "cell_type": "code",
   "execution_count": 21,
   "id": "d90f5df4-6c32-4e3c-8a99-4474f808ed18",
   "metadata": {},
   "outputs": [
    {
     "name": "stdout",
     "output_type": "stream",
     "text": [
      "\u001b[32mWriting output to file cap\n",
      "\n",
      "\u001b[0mstuff\n"
     ]
    }
   ],
   "source": [
    "\n",
    "%capture cap \n",
    "#--no-stderr\n",
    "print ('stuff')\n"
   ]
  },
  {
   "cell_type": "code",
   "execution_count": null,
   "id": "e637ba3e-a969-4365-80e8-f8df1757b709",
   "metadata": {},
   "outputs": [
    {
     "name": "stdout",
     "output_type": "stream",
     "text": [
      "Fetched 200=200 bytes from session_res.csv.\n",
      "Saving file to 'session_res.csv'"
     ]
    }
   ],
   "source": [
    "%fetchfile  \"session_res.csv\" "
   ]
  },
  {
   "cell_type": "code",
   "execution_count": null,
   "id": "7ba82775-293e-4b3f-86ab-25c573a26123",
   "metadata": {},
   "outputs": [],
   "source": [
    "%"
   ]
  }
 ],
 "metadata": {
  "kernelspec": {
   "display_name": "MicroPython - USB",
   "language": "micropython",
   "name": "micropython"
  },
  "language_info": {
   "codemirror_mode": "python",
   "file_extension": ".py",
   "mimetype": "text/python",
   "name": "micropython"
  }
 },
 "nbformat": 4,
 "nbformat_minor": 5
}
