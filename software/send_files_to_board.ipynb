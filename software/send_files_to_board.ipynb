{
 "cells": [
  {
   "cell_type": "markdown",
   "id": "939ed41f-5aa2-4e30-92cd-50e865b4fafd",
   "metadata": {},
   "source": [
    "### notebook to upload files to the micropython board.\n",
    "\n",
    "This notebook relies on the micropython kernel installation to upload files to the micropython board: https://github.com/goatchurchprime/jupyter_micropython_kernel\n",
    "\n",
    "code cobbled together by AM Chagas on 10/12/2021 Distributed as CC BY SA 4.0"
   ]
  },
  {
   "cell_type": "code",
   "execution_count": 1,
   "id": "9d2f8acf-b533-435e-bd30-d9715357709a",
   "metadata": {},
   "outputs": [
    {
     "name": "stdout",
     "output_type": "stream",
     "text": [
      "\n",
      "\u001b[34mReady.\n",
      "\u001b[0m"
     ]
    }
   ],
   "source": [
    "# connect to the micropython board\n",
    "\n",
    "#%serialconnect to --port=/dev/ttyUSB0 --baud=115200\n",
    "%serialconnect to --port=com4 --baud=115200"
   ]
  },
  {
   "cell_type": "code",
   "execution_count": 6,
   "id": "5d988d78-0f1e-4f45-b03b-c9e69a5c7309",
   "metadata": {},
   "outputs": [
    {
     "name": "stdout",
     "output_type": "stream",
     "text": [
      "Sent 482 lines (18352 bytes) to training2.py.\n",
      "repl is in normal command mode\n",
      "[\\r\\x03\\x03] b'\\r\\nMicroPython v1.17 on 2021-09-02; ESP32 module with ESP32\\r\\nType \"help()\" for more information.\\r\\n>>> \\r\\n>>> \\r\\nMPY: soft reboot\\r\\nMicroPython v1.17 on 2021-09-02; ESP32 module with ESP32\\r\\nType \"help()\" for more information.\\r\\n>>> \\r\\n>>> \\r\\n>>> '\n",
      "[\\r\\x01] b'\\r\\n>>> \\r\\nraw REPL; CTRL-B to exit\\r\\n>'"
     ]
    }
   ],
   "source": [
    "%sendtofile --source=\"main.py\" \"main.py\"\n",
    "%sendtofile --source=\"boot.py\" \"boot.py\"\n",
    "%sendtofile --source=\"tasks.py\" \"tasks.py\"\n",
    "%sendtofile --source=\"training.py\" \"training.py\"\n",
    "%sendtofile --source=\"training2.py\" \"training2.py\"\n",
    "#%sendtofile --source=\"tests.py\" \"tests.py\"\n",
    "%rebootdevice\n",
    "\n"
   ]
  },
  {
   "cell_type": "code",
   "execution_count": 2,
   "id": "c430ece7-1a56-40c0-ac22-daaf8b6e23e8",
   "metadata": {},
   "outputs": [
    {
     "name": "stdout",
     "output_type": "stream",
     "text": [
      "Listing directory '/'.\n",
      "       79    boot.py\n",
      "      275    main.py\n",
      "    17048    tasks.py\n",
      "    17281    training.py\n"
     ]
    }
   ],
   "source": [
    "#print board contents\n",
    "%ls"
   ]
  },
  {
   "cell_type": "code",
   "execution_count": 3,
   "id": "8eeb4802-38d1-4ccb-b561-4281dfdd9010",
   "metadata": {},
   "outputs": [
    {
     "name": "stdout",
     "output_type": "stream",
     "text": [
      "%capture [--quiet] [--QUIET] outputfilename\n",
      "    records output to a file\n",
      "\n",
      "%comment\n",
      "    print this into output\n",
      "\n",
      "%disconnect [--raw]\n",
      "    disconnects from web/serial connection\n",
      "\n",
      "%esptool [--port PORT] {erase,esp32,esp8266} [binfile]\n",
      "    commands for flashing your esp-device\n",
      "\n",
      "%fetchfile [--binary] [--print] [--load] [--quiet] [--QUIET] sourcefilename [destinationfilename]\n",
      "    fetch and save a file from the device\n",
      "\n",
      "%ls [--recurse] [dirname]\n",
      "    list files on the device\n",
      "\n",
      "%lsmagic\n",
      "    list magic commands\n",
      "\n",
      "%mpy-cross [--set-exe SET_EXE] [pyfile]\n",
      "    cross-compile a .py file to a .mpy file\n",
      "\n",
      "%readbytes [--binary]\n",
      "    does serial.read_all()\n",
      "\n",
      "%rebootdevice\n",
      "    reboots device\n",
      "\n",
      "%sendtofile [--append] [--mkdir] [--binary] [--execute] [--source [SOURCE]] [--quiet] [--QUIET]\n",
      "                   [destinationfilename]\n",
      "    send cell contents or file/direcectory to the device\n",
      "\n",
      "%serialconnect [--raw] [--port PORT] [--baud BAUD] [--verbose]\n",
      "    connects to a device over USB wire\n",
      "\n",
      "%socketconnect [--raw] ipnumber portnumber\n",
      "    connects to a socket of a device over wifi\n",
      "\n",
      "%suppressendcode\n",
      "    doesn't send x04 or wait to read after sending the contents of the cell\n",
      "  (assists for debugging using %writebytes and %readbytes)\n",
      "\n",
      "%websocketconnect [--raw] [--password PASSWORD] [--verbose] [websocketurl]\n",
      "    connects to the webREPL websocket of an ESP8266 over wifi\n",
      "    websocketurl defaults to ws://192.168.4.1:8266 but be sure to be connected\n",
      "\n",
      "%writebytes [--binary] [--verbose] stringtosend\n",
      "    does serial.write() of the python quoted string given\n",
      "\n",
      "%%writefile [--append] [--execute] destinationfilename\n",
      "    write contents of cell to a file\n",
      "\n"
     ]
    }
   ],
   "source": [
    "#print a list of available commands\n",
    "%lsmagic"
   ]
  },
  {
   "cell_type": "code",
   "execution_count": 10,
   "id": "5baa7fbb-984a-4f7a-ab32-90c30ab76e3d",
   "metadata": {},
   "outputs": [
    {
     "name": "stdout",
     "output_type": "stream",
     "text": [
      "repl is in normal command mode\n",
      "[\\r\\x03\\x03] b'\\r\\nMicroPython v1.17 on 2021-09-02; ESP32 module with ESP32\\r\\nType \"help()\" for more information.\\r\\n>>> \\r\\n>>> \\r\\nMPY: soft reboot\\r\\nMicroPython v1.17 on 2021-09-02; ESP32 module with ESP32\\r\\nType \"help()\" for more information.\\r\\n>>> \\r\\n>>> \\r\\n>>> '\n",
      "[\\r\\x01] b'\\r\\n>>> \\r\\nraw REPL; CTRL-B to exit\\r\\n>'"
     ]
    }
   ],
   "source": [
    "#%rebootdevice\n",
    "#%%local\n",
    "#pyboard.py --device /dev/com4 -f cp main.py :main.py\n",
    "#import pyboard\n",
    "#pyb = pyboard.Pyboard('/dev/ttyUSB0', 115200)\n",
    "#pyb = pyboard.Pyboard('/dev/com4', 115200)"
   ]
  },
  {
   "cell_type": "code",
   "execution_count": 4,
   "id": "ccb6d942-f52f-4c15-969a-931922eb95ab",
   "metadata": {},
   "outputs": [
    {
     "name": "stdout",
     "output_type": "stream",
     "text": [
      "\u001b[31mNo serial connected\n",
      "\u001b[0m  %serialconnect to connect\n",
      "  %esptool to flash the device\n",
      "  %lsmagic to list commands"
     ]
    }
   ],
   "source": [
    "pyb"
   ]
  },
  {
   "cell_type": "code",
   "execution_count": null,
   "id": "12a90461-73e4-4641-ae62-e18aa504540f",
   "metadata": {},
   "outputs": [],
   "source": []
  }
 ],
 "metadata": {
  "kernelspec": {
   "display_name": "MicroPython - USB",
   "language": "micropython",
   "name": "micropython"
  },
  "language_info": {
   "codemirror_mode": "python",
   "file_extension": ".py",
   "mimetype": "text/python",
   "name": "micropython"
  }
 },
 "nbformat": 4,
 "nbformat_minor": 5
}
