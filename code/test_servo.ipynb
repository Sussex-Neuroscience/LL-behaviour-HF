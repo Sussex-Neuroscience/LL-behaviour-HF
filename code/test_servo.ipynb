{
 "cells": [
  {
   "cell_type": "code",
   "execution_count": 1,
   "id": "b16924af-a15e-40a8-a1ce-ed0b3da515da",
   "metadata": {},
   "outputs": [
    {
     "name": "stdout",
     "output_type": "stream",
     "text": [
      "\u001b[34mConnecting to --port=COM4 --baud=115200 \u001b[0m\n",
      "MicroPython v1.17 on 2021-09-02; ESP32 module with ESP32\n",
      "Type \"help()\" for more information.\n",
      ">>>[reboot detected 0]repl is in normal command mode\n",
      "[\\r\\x03\\x03] b'\\r\\n>>> '\n",
      "[\\r\\x01] b'\\r\\n>>> \\r\\nraw REPL; CTRL-B to exit\\r\\n>' \u001b[34mReady.\n",
      "\u001b[0m"
     ]
    }
   ],
   "source": [
    "%serialconnect to --port=COM4 --baud=115200"
   ]
  },
  {
   "cell_type": "code",
   "execution_count": 5,
   "id": "d32534cf-2eb3-412a-832b-b858ed50fe3c",
   "metadata": {},
   "outputs": [],
   "source": [
    "#import servo\n",
    "from machine import PWM\n",
    "from machine import Pin\n",
    "import time\n",
    "\n",
    "\n"
   ]
  },
  {
   "cell_type": "code",
   "execution_count": 27,
   "id": "a147f234-a0f2-4e1c-9763-717a671fdde5",
   "metadata": {},
   "outputs": [],
   "source": [
    "servo1 = PWM(Pin(2), freq=50)\n",
    "servo2 = PWM(Pin(15), freq=50)\n",
    "\n",
    "def move_servos_forward():\n",
    "    step = 5\n",
    "    for i in range (0, 65, step):\n",
    "        servo1.duty(i)\n",
    "        servo2.duty(i)\n",
    "        time.sleep (0.05)\n",
    "def move_servos_backward():\n",
    "    step = 5\n",
    "    for i in range (60, 0, -step):\n",
    "        servo1.duty(i)\n",
    "        servo2.duty(i)\n",
    "        time.sleep (0.05)"
   ]
  },
  {
   "cell_type": "code",
   "execution_count": 28,
   "id": "23654ad7-176f-4400-b2db-468981385e88",
   "metadata": {},
   "outputs": [
    {
     "name": "stdout",
     "output_type": "stream",
     "text": [
      "..."
     ]
    }
   ],
   "source": [
    "for test in range (10):\n",
    "    # swipping servo\n",
    "    move_servos_forward()\n",
    "\n",
    "    time.sleep(0.2)\n",
    "    move_servos_backward()\n",
    "    time.sleep(0.2)"
   ]
  },
  {
   "cell_type": "code",
   "execution_count": 52,
   "id": "fe3e6bbe-445e-4c4f-8390-77362b9568a5",
   "metadata": {},
   "outputs": [],
   "source": [
    "servo1.duty(25)"
   ]
  },
  {
   "cell_type": "code",
   "execution_count": null,
   "id": "cf5e7836-c97b-4ffe-b917-d37d7d5dd4af",
   "metadata": {},
   "outputs": [],
   "source": []
  },
  {
   "cell_type": "code",
   "execution_count": null,
   "id": "ebbdad75-762a-4b69-a3ed-ce62b0647da4",
   "metadata": {},
   "outputs": [],
   "source": []
  }
 ],
 "metadata": {
  "kernelspec": {
   "display_name": "MicroPython - USB",
   "language": "micropython",
   "name": "micropython"
  },
  "language_info": {
   "codemirror_mode": "python",
   "file_extension": ".py",
   "mimetype": "text/python",
   "name": "micropython"
  }
 },
 "nbformat": 4,
 "nbformat_minor": 5
}
