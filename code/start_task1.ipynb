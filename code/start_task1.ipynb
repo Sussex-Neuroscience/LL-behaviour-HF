{
 "cells": [
  {
   "cell_type": "code",
   "execution_count": 1,
   "id": "b16924af-a15e-40a8-a1ce-ed0b3da515da",
   "metadata": {},
   "outputs": [
    {
     "name": "stdout",
     "output_type": "stream",
     "text": [
      "\u001b[34mConnecting to --port=COM4 --baud=115200 \u001b[0m\n",
      "MicroPython v1.17 on 2021-09-02; ESP32 module with ESP32\n",
      "Type \"help()\" for more information.\n",
      ">>>[reboot detected 0]repl is in normal command mode\n",
      "[\\r\\x03\\x03] b'\\r\\n>>> '\n",
      "[\\r\\x01] b'\\r\\n>>> \\r\\nraw REPL; CTRL-B to exit\\r\\n>' \u001b[34mReady.\n",
      "\u001b[0m"
     ]
    }
   ],
   "source": [
    "%serialconnect to --port=COM4 --baud=115200"
   ]
  },
  {
   "cell_type": "code",
   "execution_count": 19,
   "id": "d32534cf-2eb3-412a-832b-b858ed50fe3c",
   "metadata": {},
   "outputs": [],
   "source": [
    "#import servo\n",
    "import tasks\n"
   ]
  },
  {
   "cell_type": "code",
   "execution_count": 10,
   "id": "a147f234-a0f2-4e1c-9763-717a671fdde5",
   "metadata": {},
   "outputs": [],
   "source": [
    "task = tasks.Task1()\n",
    "task.run_task1()"
   ]
  }
 ],
 "metadata": {
  "kernelspec": {
   "display_name": "MicroPython - USB",
   "language": "micropython",
   "name": "micropython"
  },
  "language_info": {
   "codemirror_mode": "python",
   "file_extension": ".py",
   "mimetype": "text/python",
   "name": "micropython"
  }
 },
 "nbformat": 4,
 "nbformat_minor": 5
}
